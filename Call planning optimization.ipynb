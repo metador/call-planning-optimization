{
 "cells": [
  {
   "cell_type": "markdown",
   "metadata": {},
   "source": [
    "### Candidate: Melwin James Poovakottu"
   ]
  },
  {
   "cell_type": "markdown",
   "metadata": {},
   "source": [
    "Context\n",
    "\n",
    "Company XYZ has a list of sales leads that potentially could develop into a business opportunity. To maximize the quality of these leads, XYZ is developing a lead management process, involving system and machine learning algorithms, eventually distributing leads to the sales team for closing. The initial contact lead information (including First Name, Last Name, Mailing Street, Mailing State, Mailing Zip, and Phone) have already been provided. Additional attributes such as “Phone to Name Match\" and \"Address to Name Match\" are generated from matching contacts against XYZ’s customer management system database. The Lead_Verifiy_Response file includes a sample of contacts along with each contact’s corresponding attributes(features) and call outcome. Each record/row includes the contact’s name, address, phone number, and the contact’s 10 features along with outcome.\n",
    "\n",
    "Input Data\n",
    "1.\tFirst Name: a contact’s first name\n",
    "2.\tLast Name: a contact’s last name\n",
    "3.\tMailing Street: mailing street\n",
    "4.\tMailing State: state\n",
    "5.\tMailing Zip: postal code\n",
    "6.\tPhone: a contact’s phone number\n",
    "\n",
    "Features\n",
    "1.\tPhone to Name Match: a contact’s name and phone match against CMS database. There are four categories of matching result: \n",
    "a.\tPhone to name Match\n",
    "b.\tNo name found for phone number\n",
    "c.\tPhone to name No Match\n",
    "d.\tInvalid phone number\n",
    "2.\tPhone Is Valid: phone number is valid, True or False\n",
    "3.\tPhone Line Type: Landline, Fixed VOIP, Non-fixed VOIP, ...\n",
    "4.\tPhone Prepaid: True or False\n",
    "5.\tPhone Is Commercial: True or False\n",
    "6.\tAddress to Name Match: a contact’s name and address matching against CMS database. There are four categories of matching result: \n",
    "a.\tAddress to name match\n",
    "b.\tNo name found for address\n",
    "c.\tEither address to name no match\n",
    "d.\tInvalid address\n",
    "7.\tAddress Is Valid: address is valid, True or False\n",
    "8.\tAddress Type: e.g. Single unit, Multi unit, ...\n",
    "9.\tAddress Is Active: True or False\n",
    "10.\tAddress Is Commercial: True or False\n",
    "\n",
    "Outcome(Label)\n",
    "1.\tCall Disposition: ranges from 1 to 6\n",
    "\n",
    "\n",
    "Challenge\n",
    "\n",
    "Call disposition score of 1 is the primary goal. Score of 2 is the secondarily desired, and 6 is the least desirable. XYZ is trying to predict what feature/attribute or combinations will lead to the highest percentage of score 1? How would you go about solving this problem? What algorithms and methods would you use? What steps would you take? What feature or features produce the best result? Please provide the code associated with this project. The programming language to be used is python. \n",
    "\n"
   ]
  },
  {
   "cell_type": "code",
   "execution_count": 1,
   "metadata": {},
   "outputs": [
    {
     "name": "stderr",
     "output_type": "stream",
     "text": [
      "C:\\Anaconda\\envs\\tensorflow\\lib\\site-packages\\sklearn\\cross_validation.py:41: DeprecationWarning: This module was deprecated in version 0.18 in favor of the model_selection module into which all the refactored classes and functions are moved. Also note that the interface of the new CV iterators are different from that of this module. This module will be removed in 0.20.\n",
      "  \"This module will be removed in 0.20.\", DeprecationWarning)\n",
      "C:\\Anaconda\\envs\\tensorflow\\lib\\site-packages\\sklearn\\grid_search.py:42: DeprecationWarning: This module was deprecated in version 0.18 in favor of the model_selection module into which all the refactored classes and functions are moved. This module will be removed in 0.20.\n",
      "  DeprecationWarning)\n"
     ]
    }
   ],
   "source": [
    "# This tells matplotlib not to try opening a new window for each plot.\n",
    "%matplotlib inline\n",
    "\n",
    "# General libraries.\n",
    "import re\n",
    "import numpy as np\n",
    "import matplotlib as plt\n",
    "import matplotlib.pyplot as pyplot\n",
    "import  numpy as np \n",
    "import pandas as pd\n",
    "import seaborn as sns\n",
    "\n",
    "# SK-learn libraries for learning.\n",
    "from sklearn.pipeline import Pipeline\n",
    "from sklearn.neighbors import KNeighborsClassifier\n",
    "from sklearn.linear_model import LogisticRegression\n",
    "from sklearn.naive_bayes import BernoulliNB\n",
    "from sklearn.naive_bayes import MultinomialNB\n",
    "from sklearn.grid_search import GridSearchCV\n",
    "from sklearn import linear_model as lm \n",
    "from sklearn import preprocessing as pp\n",
    "\n",
    "# SK-learn libraries for evaluation.\n",
    "from sklearn.metrics import confusion_matrix\n",
    "from sklearn import metrics\n",
    "from sklearn.metrics import classification_report"
   ]
  },
  {
   "cell_type": "markdown",
   "metadata": {},
   "source": [
    "### Loading the data and printing few roles"
   ]
  },
  {
   "cell_type": "code",
   "execution_count": 2,
   "metadata": {},
   "outputs": [
    {
     "name": "stdout",
     "output_type": "stream",
     "text": [
      "Table 1\n"
     ]
    },
    {
     "data": {
      "text/html": [
       "<div>\n",
       "<style scoped>\n",
       "    .dataframe tbody tr th:only-of-type {\n",
       "        vertical-align: middle;\n",
       "    }\n",
       "\n",
       "    .dataframe tbody tr th {\n",
       "        vertical-align: top;\n",
       "    }\n",
       "\n",
       "    .dataframe thead th {\n",
       "        text-align: right;\n",
       "    }\n",
       "</style>\n",
       "<table border=\"1\" class=\"dataframe\">\n",
       "  <thead>\n",
       "    <tr style=\"text-align: right;\">\n",
       "      <th></th>\n",
       "      <th>ORDER</th>\n",
       "      <th>First Name</th>\n",
       "      <th>Last Name</th>\n",
       "      <th>Mailing Street</th>\n",
       "      <th>Mailing City</th>\n",
       "      <th>Mailing State</th>\n",
       "      <th>Mailing Zip</th>\n",
       "      <th>Phone</th>\n",
       "      <th>Phone to Name</th>\n",
       "      <th>Phone Is Valid</th>\n",
       "      <th>Phone Line Type</th>\n",
       "      <th>Phone Is Prepaid</th>\n",
       "      <th>Phone Is Commercial</th>\n",
       "      <th>Address to Name</th>\n",
       "      <th>Address Is Valid</th>\n",
       "      <th>Address Type</th>\n",
       "      <th>Address Is Active</th>\n",
       "      <th>Address Is Commercial</th>\n",
       "      <th>Call Disposition</th>\n",
       "    </tr>\n",
       "  </thead>\n",
       "  <tbody>\n",
       "    <tr>\n",
       "      <th>0</th>\n",
       "      <td>1</td>\n",
       "      <td>Donald</td>\n",
       "      <td>Mathews</td>\n",
       "      <td>789 Cambridge Place</td>\n",
       "      <td>Hanover</td>\n",
       "      <td>MD</td>\n",
       "      <td>21076</td>\n",
       "      <td>860-452-9151</td>\n",
       "      <td>No match</td>\n",
       "      <td>True</td>\n",
       "      <td>Landline</td>\n",
       "      <td>False</td>\n",
       "      <td>True</td>\n",
       "      <td>No match</td>\n",
       "      <td>True</td>\n",
       "      <td>Multi unit</td>\n",
       "      <td>True</td>\n",
       "      <td>True</td>\n",
       "      <td>5</td>\n",
       "    </tr>\n",
       "    <tr>\n",
       "      <th>1</th>\n",
       "      <td>2</td>\n",
       "      <td>Sharon</td>\n",
       "      <td>Ogden</td>\n",
       "      <td>3929 Timber Ridge Road</td>\n",
       "      <td>Sacramento</td>\n",
       "      <td>CA</td>\n",
       "      <td>95814</td>\n",
       "      <td>213-624-4444</td>\n",
       "      <td>No match</td>\n",
       "      <td>True</td>\n",
       "      <td>Landline</td>\n",
       "      <td>False</td>\n",
       "      <td>False</td>\n",
       "      <td>No match</td>\n",
       "      <td>True</td>\n",
       "      <td>Multi unit</td>\n",
       "      <td>True</td>\n",
       "      <td>True</td>\n",
       "      <td>5</td>\n",
       "    </tr>\n",
       "    <tr>\n",
       "      <th>2</th>\n",
       "      <td>3</td>\n",
       "      <td>Timothy</td>\n",
       "      <td>Villa</td>\n",
       "      <td>4493 Freedom Lane</td>\n",
       "      <td>Stockton</td>\n",
       "      <td>CA</td>\n",
       "      <td>95204</td>\n",
       "      <td>309-578-4670</td>\n",
       "      <td>Match</td>\n",
       "      <td>True</td>\n",
       "      <td>Fixed VOIP</td>\n",
       "      <td>False</td>\n",
       "      <td>True</td>\n",
       "      <td>No match</td>\n",
       "      <td>True</td>\n",
       "      <td>Unknown address type</td>\n",
       "      <td>NaN</td>\n",
       "      <td>True</td>\n",
       "      <td>1</td>\n",
       "    </tr>\n",
       "    <tr>\n",
       "      <th>3</th>\n",
       "      <td>4</td>\n",
       "      <td>Stephen</td>\n",
       "      <td>Jackson</td>\n",
       "      <td>1739 Five Points</td>\n",
       "      <td>Salisbury</td>\n",
       "      <td>MD</td>\n",
       "      <td>21875</td>\n",
       "      <td>563-574-3653</td>\n",
       "      <td>No match</td>\n",
       "      <td>True</td>\n",
       "      <td>Fixed VOIP</td>\n",
       "      <td>False</td>\n",
       "      <td>True</td>\n",
       "      <td>No match</td>\n",
       "      <td>True</td>\n",
       "      <td>Single unit</td>\n",
       "      <td>True</td>\n",
       "      <td>False</td>\n",
       "      <td>6</td>\n",
       "    </tr>\n",
       "    <tr>\n",
       "      <th>4</th>\n",
       "      <td>5</td>\n",
       "      <td>Emilie</td>\n",
       "      <td>Sierra</td>\n",
       "      <td>2969 Bell Street</td>\n",
       "      <td>New York</td>\n",
       "      <td>NY</td>\n",
       "      <td>10022</td>\n",
       "      <td>408-236-9031</td>\n",
       "      <td>No match</td>\n",
       "      <td>True</td>\n",
       "      <td>Fixed VOIP</td>\n",
       "      <td>False</td>\n",
       "      <td>True</td>\n",
       "      <td>No match</td>\n",
       "      <td>True</td>\n",
       "      <td>Multi unit</td>\n",
       "      <td>True</td>\n",
       "      <td>True</td>\n",
       "      <td>6</td>\n",
       "    </tr>\n",
       "  </tbody>\n",
       "</table>\n",
       "</div>"
      ],
      "text/plain": [
       "   ORDER First Name Last Name          Mailing Street Mailing City  \\\n",
       "0      1     Donald   Mathews     789 Cambridge Place      Hanover   \n",
       "1      2     Sharon     Ogden  3929 Timber Ridge Road   Sacramento   \n",
       "2      3    Timothy     Villa       4493 Freedom Lane     Stockton   \n",
       "3      4    Stephen   Jackson        1739 Five Points    Salisbury   \n",
       "4      5     Emilie    Sierra        2969 Bell Street     New York   \n",
       "\n",
       "  Mailing State  Mailing Zip         Phone Phone to Name Phone Is Valid  \\\n",
       "0            MD        21076  860-452-9151      No match           True   \n",
       "1            CA        95814  213-624-4444      No match           True   \n",
       "2            CA        95204  309-578-4670         Match           True   \n",
       "3            MD        21875  563-574-3653      No match           True   \n",
       "4            NY        10022  408-236-9031      No match           True   \n",
       "\n",
       "  Phone Line Type Phone Is Prepaid Phone Is Commercial Address to Name  \\\n",
       "0        Landline            False                True        No match   \n",
       "1        Landline            False               False        No match   \n",
       "2      Fixed VOIP            False                True        No match   \n",
       "3      Fixed VOIP            False                True        No match   \n",
       "4      Fixed VOIP            False                True        No match   \n",
       "\n",
       "  Address Is Valid          Address Type Address Is Active  \\\n",
       "0             True            Multi unit              True   \n",
       "1             True            Multi unit              True   \n",
       "2             True  Unknown address type               NaN   \n",
       "3             True           Single unit              True   \n",
       "4             True            Multi unit              True   \n",
       "\n",
       "  Address Is Commercial  Call Disposition  \n",
       "0                  True                 5  \n",
       "1                  True                 5  \n",
       "2                  True                 1  \n",
       "3                 False                 6  \n",
       "4                  True                 6  "
      ]
     },
     "execution_count": 2,
     "metadata": {},
     "output_type": "execute_result"
    }
   ],
   "source": [
    "data = pd.read_csv(\"./Lead_Verify_Response.csv\")\n",
    "\n",
    "\n",
    "print(\"Table 1\")\n",
    "data.head()"
   ]
  },
  {
   "cell_type": "markdown",
   "metadata": {},
   "source": [
    "Here we can see there are few rows which are empty. We shall be handling them later."
   ]
  },
  {
   "cell_type": "markdown",
   "metadata": {},
   "source": [
    "### Data Prep"
   ]
  },
  {
   "cell_type": "markdown",
   "metadata": {},
   "source": [
    "Lets look at the outcome variable a bit closely using a histogram and unique value counts"
   ]
  },
  {
   "cell_type": "code",
   "execution_count": 3,
   "metadata": {},
   "outputs": [
    {
     "data": {
      "text/plain": [
       "2    2841\n",
       "6    2835\n",
       "1    2307\n",
       "5    1080\n",
       "3     832\n",
       "4     105\n",
       "Name: Call Disposition, dtype: int64"
      ]
     },
     "execution_count": 3,
     "metadata": {},
     "output_type": "execute_result"
    },
    {
     "data": {
      "image/png": "[encoded data removed]",
      "text/plain": [
       "<matplotlib.figure.Figure at 0x177b2231fd0>"
      ]
     },
     "metadata": {},
     "output_type": "display_data"
    }
   ],
   "source": [
    "call_dis = data.iloc[:,-1]\n",
    "\n",
    "## Lets see the count of all the call disposition \n",
    "call_dis.hist()\n",
    "call_dis.value_counts()"
   ]
  },
  {
   "cell_type": "markdown",
   "metadata": {},
   "source": [
    "We can see that there are only 2307 calls with score 1 whereas there are 7693 records with score not equal to 1. Also if you look at table above carefully we can see there are some NaN values. Lets reassess the data without the NaN values"
   ]
  },
  {
   "cell_type": "code",
   "execution_count": 29,
   "metadata": {},
   "outputs": [
    {
     "name": "stdout",
     "output_type": "stream",
     "text": [
      "No of records with data : 7755\n"
     ]
    },
    {
     "data": {
      "text/plain": [
       "2    2320\n",
       "6    2204\n",
       "1    1719\n",
       "5     793\n",
       "3     624\n",
       "4      95\n",
       "Name: Call Disposition, dtype: int64"
      ]
     },
     "execution_count": 29,
     "metadata": {},
     "output_type": "execute_result"
    },
    {
     "data": {
      "image/png": "[encoded data removed]",
      "text/plain": [
       "<matplotlib.figure.Figure at 0x177b247ca58>"
      ]
     },
     "metadata": {},
     "output_type": "display_data"
    }
   ],
   "source": [
    "data_no_na = data.dropna()\n",
    "call_dis = data_no_na.iloc[:,-1]\n",
    "print(\"No of records with data :\",data_no_na.shape[0])\n",
    "\n",
    "## Lets see the count of all the call disposition \n",
    "call_dis.hist()\n",
    "call_dis.value_counts()"
   ]
  },
  {
   "cell_type": "markdown",
   "metadata": {},
   "source": [
    "Now after removing the NaN values we can see that there are only 1719 records with score 1 whereas there are 6036 records with score not equal to 1. This suggestes that there are imbalances classes in the data."
   ]
  },
  {
   "cell_type": "markdown",
   "metadata": {},
   "source": [
    "We see that almost 25% of the data had NaN values. A huge part of Data Science is to handle data which contains NaN values. It includes thorough investigation of the data and the reason why there are NaN values in the data. Is there any correlation between the NaN values and the outcome variable or is it totally random? What is the best replacement for NaN etc.\n",
    " \n",
    "Comparing Histogram 1 and Histogram 2 we can see that there is not much difference in distribution of data with NaN and without NaN values. Hence in the interest of time we asume the NaN and the outcome variable is not co-related and shall proceed with only the records which contain data in all the columns"
   ]
  },
  {
   "cell_type": "markdown",
   "metadata": {},
   "source": [
    "#### Creating a Label for outcome variable"
   ]
  },
  {
   "cell_type": "markdown",
   "metadata": {},
   "source": [
    "We shall create a new dataframe with the new labels for the outcome variable i.e. Score = 1. When the score is 1 then the label shall also be 1; but if the score is any other call disposition score than 1; then the label shall be 0. Looking at the histogram and value counts for the label we can see that there are imbalanced classes. There are 1719 records with score 1 whereas 6036 with score which is not 1(i.e. label = 0). Due to the imbalanced classes we cannot use Accuracy in our mertic of model evaluation. We should be using F1-score. More on that later."
   ]
  },
  {
   "cell_type": "code",
   "execution_count": 30,
   "metadata": {},
   "outputs": [
    {
     "name": "stdout",
     "output_type": "stream",
     "text": [
      "0    6036\n",
      "1    1719\n",
      "Name: Call Disposition, dtype: int64\n"
     ]
    },
    {
     "data": {
      "image/png": "[encoded data removed]",
      "text/plain": [
       "<matplotlib.figure.Figure at 0x177b32e3fd0>"
      ]
     },
     "metadata": {},
     "output_type": "display_data"
    }
   ],
   "source": [
    "labels = data_no_na.iloc[:,-1].apply( lambda x: 1 if x==1 else 0)\n",
    "labels.hist()\n",
    "print(labels.value_counts())"
   ]
  },
  {
   "cell_type": "markdown",
   "metadata": {},
   "source": [
    "   "
   ]
  },
  {
   "cell_type": "markdown",
   "metadata": {},
   "source": [
    "## Some Feature Engineering"
   ]
  },
  {
   "cell_type": "markdown",
   "metadata": {},
   "source": [
    "#### Lets Analyse the column/feature Mailing State"
   ]
  },
  {
   "cell_type": "markdown",
   "metadata": {},
   "source": [
    "Lets plot the count of records from each state and color it by the score see if there any patterns"
   ]
  },
  {
   "cell_type": "code",
   "execution_count": 6,
   "metadata": {
    "scrolled": true
   },
   "outputs": [
    {
     "data": {
      "image/png": "[encoded data removed]",
      "text/plain": [
       "<matplotlib.figure.Figure at 0x177b2588320>"
      ]
     },
     "metadata": {},
     "output_type": "display_data"
    }
   ],
   "source": [
    "data_no_na['Mailing State']\n",
    "sns.set_context(\"talk\")\n",
    "f, ax = pyplot.subplots(figsize=(15, 10))\n",
    "g = sns.countplot(data_no_na['Mailing State'], hue  =  labels, dodge = False, ax= ax)\n",
    "d = g.set_xticklabels(g.get_xticklabels(), rotation=90)"
   ]
  },
  {
   "cell_type": "markdown",
   "metadata": {},
   "source": [
    "We can clearly see that there is good amount of varitation in the data."
   ]
  },
  {
   "cell_type": "markdown",
   "metadata": {},
   "source": [
    " #### Mailing City"
   ]
  },
  {
   "cell_type": "markdown",
   "metadata": {},
   "source": [
    "Now lets look at the Mailing City variable. Below we have calculated the percent of records for each city in the data. We see that there are 2387 cities and highest calls are to New York or Los Angeles that which accounts for only 1.7% of the data. Everything else is below 1.2% with majority cities below 0.05%/\n",
    "Since Mailing City is a categorical variable adding city as a feature we would require to one hot encode all of the 2387 cities. This shall increase the number of columns in the model without increasing any useful information precent in the data. This will make the models easyily over fit(I already tired it). Also the most of variation in the data has already been capurted in Mailing State variable. The same issue shall be faced by other columns in the data such as First Name, Last Name, Mailing Street, Mailing Zip and Phone. Hence we shall not be including these columns in our analysis"
   ]
  },
  {
   "cell_type": "code",
   "execution_count": 7,
   "metadata": {},
   "outputs": [
    {
     "data": {
      "text/plain": [
       "New York         0.017408\n",
       "Los Angeles      0.016377\n",
       "Chicago          0.011348\n",
       "Houston          0.011348\n",
       "Philadelphia     0.010316\n",
       "Seattle          0.007866\n",
       "Atlanta          0.007866\n",
       "San Francisco    0.007350\n",
       "Dallas           0.007092\n",
       "Washington       0.006705\n",
       "Portland         0.006705\n",
       "Phoenix          0.006319\n",
       "Indianapolis     0.005932\n",
       "Minneapolis      0.005803\n",
       "Jackson          0.005674\n",
       "San Diego        0.005416\n",
       "Nashville        0.005287\n",
       "Newark           0.005158\n",
       "Charlotte        0.004900\n",
       "Jacksonville     0.004771\n",
       "Miami            0.004771\n",
       "Oakland          0.004642\n",
       "Denver           0.004513\n",
       "Tampa            0.004513\n",
       "Louisville       0.004384\n",
       "Springfield      0.004384\n",
       "Pittsburgh       0.004384\n",
       "Grand Rapids     0.004255\n",
       "Baltimore        0.004126\n",
       "San Antonio      0.004126\n",
       "                   ...   \n",
       "Beaver Dam       0.000129\n",
       "Alamito          0.000129\n",
       "Walcott          0.000129\n",
       "Boligee          0.000129\n",
       "Brownsville      0.000129\n",
       "Holley           0.000129\n",
       "Clover           0.000129\n",
       "Taunton          0.000129\n",
       "Lignite          0.000129\n",
       "Celina           0.000129\n",
       "Mccordsville     0.000129\n",
       "Haynesville      0.000129\n",
       "Maxbass          0.000129\n",
       "Minden           0.000129\n",
       "Missoula         0.000129\n",
       "Barton           0.000129\n",
       "Butte City       0.000129\n",
       "Walnut Grove     0.000129\n",
       "Corunna          0.000129\n",
       "West Brow        0.000129\n",
       "Watertown        0.000129\n",
       "Wichita Falls    0.000129\n",
       "Minco            0.000129\n",
       "Mount Gilead     0.000129\n",
       "Carmen           0.000129\n",
       "Ville Platte     0.000129\n",
       "Crozet           0.000129\n",
       "Halsey           0.000129\n",
       "Kemp             0.000129\n",
       "Holmdel          0.000129\n",
       "Name: Mailing City, Length: 2387, dtype: float64"
      ]
     },
     "execution_count": 7,
     "metadata": {},
     "output_type": "execute_result"
    }
   ],
   "source": [
    "data_no_na['Mailing City'].value_counts()/data_no_na.shape[0]"
   ]
  },
  {
   "cell_type": "markdown",
   "metadata": {},
   "source": [
    "### Gender Variable"
   ]
  },
  {
   "cell_type": "markdown",
   "metadata": {},
   "source": [
    "Lets look at the gender of the Leads. Since we do not have have a explict gender variable in the data we have to derive it from the First name of the Lead. We shall be using a python library called gender_guesser for the same. Once we guess the gender of the lead, we shall add it as a feature in the dataset(next code block)"
   ]
  },
  {
   "cell_type": "code",
   "execution_count": 8,
   "metadata": {},
   "outputs": [
    {
     "name": "stderr",
     "output_type": "stream",
     "text": [
      "C:\\Anaconda\\envs\\tensorflow\\lib\\site-packages\\ipykernel\\__main__.py:4: SettingWithCopyWarning: \n",
      "A value is trying to be set on a copy of a slice from a DataFrame.\n",
      "Try using .loc[row_indexer,col_indexer] = value instead\n",
      "\n",
      "See the caveats in the documentation: http://pandas.pydata.org/pandas-docs/stable/indexing.html#indexing-view-versus-copy\n"
     ]
    },
    {
     "data": {
      "image/png": "[encoded data removed]",
      "text/plain": [
       "<matplotlib.figure.Figure at 0x177b27169b0>"
      ]
     },
     "metadata": {},
     "output_type": "display_data"
    }
   ],
   "source": [
    "import gender_guesser.detector as gender\n",
    "d = gender.Detector()\n",
    "male = data_no_na['First Name'].map(d.get_gender)\n",
    "data_no_na['gender_male'] = male.map(lambda x: 1 if x in ['male','mostly_male','unknown'] else 0 )\n",
    "f,ax = pyplot.subplots(figsize=(10,7))\n",
    "g = sns.countplot(data_no_na['gender_male'] , hue  =  labels , dodge = True, ax= ax)\n",
    "d = g.set_xticklabels(g.get_xticklabels(), rotation=90)"
   ]
  },
  {
   "cell_type": "markdown",
   "metadata": {},
   "source": [
    "# tRAIL "
   ]
  },
  {
   "cell_type": "code",
   "execution_count": 57,
   "metadata": {},
   "outputs": [
    {
     "data": {
      "text/plain": [
       "<matplotlib.axes._subplots.AxesSubplot at 0x177bf6a2240>"
      ]
     },
     "execution_count": 57,
     "metadata": {},
     "output_type": "execute_result"
    },
    {
     "data": {
      "image/png": "[encoded data removed]",
      "text/plain": [
       "<matplotlib.figure.Figure at 0x177bf6a5518>"
      ]
     },
     "metadata": {},
     "output_type": "display_data"
    }
   ],
   "source": [
    "#new_data  = pd.concat([data_no_na,labels], axis=1)\n",
    "f,ax = pyplot.subplots(figsize=(5,30))\n",
    "piv = data_no_na.pivot_table(columns='Phone Line Type',index='Mailing State',aggfunc='count',fill_value=0 )\n",
    "sns.heatmap(piv['Address Is Active'],ax=ax)"
   ]
  },
  {
   "cell_type": "markdown",
   "metadata": {},
   "source": [
    "### Converting the categorical variables to dummy variables or flag variables"
   ]
  },
  {
   "cell_type": "markdown",
   "metadata": {},
   "source": [
    "Now lets start converting the columns with String columns into boolean or hot encoded columns. We shall convert all the boolean variables to column features with 0 or 1. 1 being True and 0 being false. We shall one hot encode all the useful categorical variables using the get_dummy function in Pandas"
   ]
  },
  {
   "cell_type": "code",
   "execution_count": 9,
   "metadata": {
    "collapsed": true
   },
   "outputs": [],
   "source": [
    "## All the columns which are either positive or negatice values \n",
    "flagged_var = [\"Phone Is Valid\",\"Phone Is Prepaid\",\"Phone Is Commercial\",\"Address Is Valid\",\"Address Is Active\",\"Address Is Commercial\"]\n",
    "\n",
    "#We shall assign them 1 if True else zero\n",
    "df_flags = data_no_na[flagged_var].applymap(lambda x: 1.0 if x else 0.0)\n",
    "\n",
    "#There are few categorical factors well. We shall be ingoring First Name, Last Name, Mailing Street, Mailing Zone and phone number\n",
    "## because they do not directly effect the call dispotion\n",
    "\n",
    "## Categorical columns that we shall be one hot encoding\n",
    "encoded_var = ['Mailing State','Phone to Name', 'Phone Line Type', 'Address to Name', 'Address Type']\n",
    "\n",
    "df_dummy = pd.get_dummies(data_no_na[encoded_var])\n",
    "data_f = pd.concat([df_flags,df_dummy,data_no_na['gender_male']],axis = 1)\n",
    "\n"
   ]
  },
  {
   "cell_type": "markdown",
   "metadata": {},
   "source": [
    "   "
   ]
  },
  {
   "cell_type": "markdown",
   "metadata": {},
   "source": [
    "Since all of our variables are categorical variables or boolean variables we can consider the mean of the column as their probability of being true.\n",
    "In the below table I caculated the proability for each column to be either one or zero. We see that there are few columns which have the mean of 1 (Phone Is Valid and Address Is Valid). These means they have only ones in the data. Also on closer look we can see some columns which have no or very less data(mean = ~0)"
   ]
  },
  {
   "cell_type": "code",
   "execution_count": 10,
   "metadata": {},
   "outputs": [
    {
     "name": "stdout",
     "output_type": "stream",
     "text": [
      "                                    Means_0   Means_1  Differences\n",
      "Phone Is Valid                     1.000000  1.000000     0.000000\n",
      "Phone Is Prepaid                   0.001325  0.000582     0.000744\n",
      "Phone Is Commercial                0.859013  0.874927    -0.015915\n",
      "Address Is Valid                   1.000000  1.000000     0.000000\n",
      "Address Is Active                  0.985918  0.984293     0.001625\n",
      "Address Is Commercial              0.842114  0.840605     0.001509\n",
      "Mailing State_AK                   0.002651  0.003490    -0.000840\n",
      "Mailing State_AL                   0.014911  0.017452    -0.002541\n",
      "Mailing State_AR                   0.011266  0.009889     0.001376\n",
      "Mailing State_AZ                   0.014745  0.009308     0.005437\n",
      "Mailing State_CA                   0.111332  0.097150     0.014183\n",
      "Mailing State_CO                   0.015739  0.014543     0.001196\n",
      "Mailing State_CT                   0.010272  0.012798    -0.002526\n",
      "Mailing State_DC                   0.004307  0.002327     0.001981\n",
      "Mailing State_DE                   0.003148  0.006981    -0.003833\n",
      "Mailing State_FL                   0.052684  0.052356     0.000328\n",
      "Mailing State_GA                   0.027833  0.028505    -0.000672\n",
      "Mailing State_HI                   0.004142  0.002327     0.001815\n",
      "Mailing State_IA                   0.010603  0.009308     0.001295\n",
      "Mailing State_ID                   0.004970  0.002909     0.002062\n",
      "Mailing State_IL                   0.047051  0.042467     0.004584\n",
      "Mailing State_IN                   0.020378  0.022688    -0.002310\n",
      "Mailing State_KS                   0.011431  0.013380    -0.001948\n",
      "Mailing State_KY                   0.015242  0.018034    -0.002792\n",
      "Mailing State_LA                   0.016402  0.020361    -0.003959\n",
      "Mailing State_MA                   0.027999  0.030250    -0.002251\n",
      "Mailing State_MD                   0.021372  0.018034     0.003338\n",
      "Mailing State_ME                   0.003645  0.005236    -0.001591\n",
      "Mailing State_MI                   0.036117  0.032577     0.003540\n",
      "Mailing State_MN                   0.021372  0.023851    -0.002479\n",
      "...                                     ...       ...          ...\n",
      "Mailing State_OK                   0.012922  0.013962    -0.001039\n",
      "Mailing State_OR                   0.010106  0.008726     0.001380\n",
      "Mailing State_PA                   0.042909  0.055265    -0.012355\n",
      "Mailing State_RI                   0.003645  0.005236    -0.001591\n",
      "Mailing State_SC                   0.011928  0.012216    -0.000288\n",
      "Mailing State_SD                   0.003148  0.002327     0.000821\n",
      "Mailing State_TN                   0.018887  0.020942    -0.002056\n",
      "Mailing State_TX                   0.073227  0.075044    -0.001816\n",
      "Mailing State_UT                   0.008946  0.005817     0.003129\n",
      "Mailing State_VA                   0.027336  0.027341    -0.000005\n",
      "Mailing State_VT                   0.003645  0.004072    -0.000427\n",
      "Mailing State_WA                   0.020543  0.021524    -0.000981\n",
      "Mailing State_WI                   0.019881  0.017452     0.002429\n",
      "Mailing State_WV                   0.005633  0.006399    -0.000766\n",
      "Mailing State_WY                   0.004805  0.002909     0.001896\n",
      "Phone to Name_Match                0.354871  0.517161    -0.162290\n",
      "Phone to Name_No match             0.645129  0.482839     0.162290\n",
      "Phone Line Type_Fixed VOIP         0.324056  0.423502    -0.099446\n",
      "Phone Line Type_Landline           0.503976  0.441536     0.062440\n",
      "Phone Line Type_Mobile             0.001325  0.000582     0.000744\n",
      "Phone Line Type_Non-fixed VOIP     0.170643  0.134380     0.036262\n",
      "Address to Name_Match              0.374420  0.451425    -0.077005\n",
      "Address to Name_No match           0.625580  0.548575     0.077005\n",
      "Address Type_Commercial mail drop  0.006461  0.004654     0.001807\n",
      "Address Type_Multi unit            0.406561  0.344386     0.062174\n",
      "Address Type_PO box                0.035454  0.050029    -0.014575\n",
      "Address Type_PO box throwback      0.010603  0.011635    -0.001032\n",
      "Address Type_Single unit           0.537608  0.588133    -0.050525\n",
      "Address Type_Unknown address type  0.003313  0.001163     0.002150\n",
      "gender_male                        0.506296  0.513671    -0.007375\n",
      "\n",
      "[72 rows x 3 columns]\n"
     ]
    }
   ],
   "source": [
    "diff = pd.concat([data_f[labels==0].mean(axis=0),data_f[labels==1].mean(axis=0), data_f[labels==0].mean(axis=0)-data_f[labels==1].mean(axis=0)],axis=1)\n",
    "diff.columns=[\"Means_0\",\"Means_1\",\"Differences\"]\n",
    "\n",
    "print(diff)"
   ]
  },
  {
   "cell_type": "markdown",
   "metadata": {},
   "source": [
    "There are some columns(some dummy columns for various states) have very little or no variation across call disposition values. Hence we shall be ingnoring such columns. "
   ]
  },
  {
   "cell_type": "code",
   "execution_count": 11,
   "metadata": {
    "collapsed": true
   },
   "outputs": [],
   "source": [
    "diff_new = diff[abs(diff.Differences)>0.0001]"
   ]
  },
  {
   "cell_type": "markdown",
   "metadata": {},
   "source": [
    "We shall be considering only the following columns(i.e. columns which have some varitation in the data). By doing this we reduce the number of columns; thus reducing few of unneccesary columns."
   ]
  },
  {
   "cell_type": "code",
   "execution_count": 12,
   "metadata": {},
   "outputs": [
    {
     "data": {
      "text/html": [
       "<div>\n",
       "<style scoped>\n",
       "    .dataframe tbody tr th:only-of-type {\n",
       "        vertical-align: middle;\n",
       "    }\n",
       "\n",
       "    .dataframe tbody tr th {\n",
       "        vertical-align: top;\n",
       "    }\n",
       "\n",
       "    .dataframe thead th {\n",
       "        text-align: right;\n",
       "    }\n",
       "</style>\n",
       "<table border=\"1\" class=\"dataframe\">\n",
       "  <thead>\n",
       "    <tr style=\"text-align: right;\">\n",
       "      <th></th>\n",
       "      <th>0</th>\n",
       "    </tr>\n",
       "  </thead>\n",
       "  <tbody>\n",
       "    <tr>\n",
       "      <th>0</th>\n",
       "      <td>Phone Is Prepaid</td>\n",
       "    </tr>\n",
       "    <tr>\n",
       "      <th>1</th>\n",
       "      <td>Phone Is Commercial</td>\n",
       "    </tr>\n",
       "    <tr>\n",
       "      <th>2</th>\n",
       "      <td>Address Is Active</td>\n",
       "    </tr>\n",
       "    <tr>\n",
       "      <th>3</th>\n",
       "      <td>Address Is Commercial</td>\n",
       "    </tr>\n",
       "    <tr>\n",
       "      <th>4</th>\n",
       "      <td>Mailing State_AK</td>\n",
       "    </tr>\n",
       "    <tr>\n",
       "      <th>5</th>\n",
       "      <td>Mailing State_AL</td>\n",
       "    </tr>\n",
       "    <tr>\n",
       "      <th>6</th>\n",
       "      <td>Mailing State_AR</td>\n",
       "    </tr>\n",
       "    <tr>\n",
       "      <th>7</th>\n",
       "      <td>Mailing State_AZ</td>\n",
       "    </tr>\n",
       "    <tr>\n",
       "      <th>8</th>\n",
       "      <td>Mailing State_CA</td>\n",
       "    </tr>\n",
       "    <tr>\n",
       "      <th>9</th>\n",
       "      <td>Mailing State_CO</td>\n",
       "    </tr>\n",
       "    <tr>\n",
       "      <th>10</th>\n",
       "      <td>Mailing State_CT</td>\n",
       "    </tr>\n",
       "    <tr>\n",
       "      <th>11</th>\n",
       "      <td>Mailing State_DC</td>\n",
       "    </tr>\n",
       "    <tr>\n",
       "      <th>12</th>\n",
       "      <td>Mailing State_DE</td>\n",
       "    </tr>\n",
       "    <tr>\n",
       "      <th>13</th>\n",
       "      <td>Mailing State_FL</td>\n",
       "    </tr>\n",
       "    <tr>\n",
       "      <th>14</th>\n",
       "      <td>Mailing State_GA</td>\n",
       "    </tr>\n",
       "    <tr>\n",
       "      <th>15</th>\n",
       "      <td>Mailing State_HI</td>\n",
       "    </tr>\n",
       "    <tr>\n",
       "      <th>16</th>\n",
       "      <td>Mailing State_IA</td>\n",
       "    </tr>\n",
       "    <tr>\n",
       "      <th>17</th>\n",
       "      <td>Mailing State_ID</td>\n",
       "    </tr>\n",
       "    <tr>\n",
       "      <th>18</th>\n",
       "      <td>Mailing State_IL</td>\n",
       "    </tr>\n",
       "    <tr>\n",
       "      <th>19</th>\n",
       "      <td>Mailing State_IN</td>\n",
       "    </tr>\n",
       "    <tr>\n",
       "      <th>20</th>\n",
       "      <td>Mailing State_KS</td>\n",
       "    </tr>\n",
       "    <tr>\n",
       "      <th>21</th>\n",
       "      <td>Mailing State_KY</td>\n",
       "    </tr>\n",
       "    <tr>\n",
       "      <th>22</th>\n",
       "      <td>Mailing State_LA</td>\n",
       "    </tr>\n",
       "    <tr>\n",
       "      <th>23</th>\n",
       "      <td>Mailing State_MA</td>\n",
       "    </tr>\n",
       "    <tr>\n",
       "      <th>24</th>\n",
       "      <td>Mailing State_MD</td>\n",
       "    </tr>\n",
       "    <tr>\n",
       "      <th>25</th>\n",
       "      <td>Mailing State_ME</td>\n",
       "    </tr>\n",
       "    <tr>\n",
       "      <th>26</th>\n",
       "      <td>Mailing State_MI</td>\n",
       "    </tr>\n",
       "    <tr>\n",
       "      <th>27</th>\n",
       "      <td>Mailing State_MN</td>\n",
       "    </tr>\n",
       "    <tr>\n",
       "      <th>28</th>\n",
       "      <td>Mailing State_MO</td>\n",
       "    </tr>\n",
       "    <tr>\n",
       "      <th>29</th>\n",
       "      <td>Mailing State_MS</td>\n",
       "    </tr>\n",
       "    <tr>\n",
       "      <th>...</th>\n",
       "      <td>...</td>\n",
       "    </tr>\n",
       "    <tr>\n",
       "      <th>39</th>\n",
       "      <td>Mailing State_OH</td>\n",
       "    </tr>\n",
       "    <tr>\n",
       "      <th>40</th>\n",
       "      <td>Mailing State_OK</td>\n",
       "    </tr>\n",
       "    <tr>\n",
       "      <th>41</th>\n",
       "      <td>Mailing State_OR</td>\n",
       "    </tr>\n",
       "    <tr>\n",
       "      <th>42</th>\n",
       "      <td>Mailing State_PA</td>\n",
       "    </tr>\n",
       "    <tr>\n",
       "      <th>43</th>\n",
       "      <td>Mailing State_RI</td>\n",
       "    </tr>\n",
       "    <tr>\n",
       "      <th>44</th>\n",
       "      <td>Mailing State_SC</td>\n",
       "    </tr>\n",
       "    <tr>\n",
       "      <th>45</th>\n",
       "      <td>Mailing State_SD</td>\n",
       "    </tr>\n",
       "    <tr>\n",
       "      <th>46</th>\n",
       "      <td>Mailing State_TN</td>\n",
       "    </tr>\n",
       "    <tr>\n",
       "      <th>47</th>\n",
       "      <td>Mailing State_TX</td>\n",
       "    </tr>\n",
       "    <tr>\n",
       "      <th>48</th>\n",
       "      <td>Mailing State_UT</td>\n",
       "    </tr>\n",
       "    <tr>\n",
       "      <th>49</th>\n",
       "      <td>Mailing State_VT</td>\n",
       "    </tr>\n",
       "    <tr>\n",
       "      <th>50</th>\n",
       "      <td>Mailing State_WA</td>\n",
       "    </tr>\n",
       "    <tr>\n",
       "      <th>51</th>\n",
       "      <td>Mailing State_WI</td>\n",
       "    </tr>\n",
       "    <tr>\n",
       "      <th>52</th>\n",
       "      <td>Mailing State_WV</td>\n",
       "    </tr>\n",
       "    <tr>\n",
       "      <th>53</th>\n",
       "      <td>Mailing State_WY</td>\n",
       "    </tr>\n",
       "    <tr>\n",
       "      <th>54</th>\n",
       "      <td>Phone to Name_Match</td>\n",
       "    </tr>\n",
       "    <tr>\n",
       "      <th>55</th>\n",
       "      <td>Phone to Name_No match</td>\n",
       "    </tr>\n",
       "    <tr>\n",
       "      <th>56</th>\n",
       "      <td>Phone Line Type_Fixed VOIP</td>\n",
       "    </tr>\n",
       "    <tr>\n",
       "      <th>57</th>\n",
       "      <td>Phone Line Type_Landline</td>\n",
       "    </tr>\n",
       "    <tr>\n",
       "      <th>58</th>\n",
       "      <td>Phone Line Type_Mobile</td>\n",
       "    </tr>\n",
       "    <tr>\n",
       "      <th>59</th>\n",
       "      <td>Phone Line Type_Non-fixed VOIP</td>\n",
       "    </tr>\n",
       "    <tr>\n",
       "      <th>60</th>\n",
       "      <td>Address to Name_Match</td>\n",
       "    </tr>\n",
       "    <tr>\n",
       "      <th>61</th>\n",
       "      <td>Address to Name_No match</td>\n",
       "    </tr>\n",
       "    <tr>\n",
       "      <th>62</th>\n",
       "      <td>Address Type_Commercial mail drop</td>\n",
       "    </tr>\n",
       "    <tr>\n",
       "      <th>63</th>\n",
       "      <td>Address Type_Multi unit</td>\n",
       "    </tr>\n",
       "    <tr>\n",
       "      <th>64</th>\n",
       "      <td>Address Type_PO box</td>\n",
       "    </tr>\n",
       "    <tr>\n",
       "      <th>65</th>\n",
       "      <td>Address Type_PO box throwback</td>\n",
       "    </tr>\n",
       "    <tr>\n",
       "      <th>66</th>\n",
       "      <td>Address Type_Single unit</td>\n",
       "    </tr>\n",
       "    <tr>\n",
       "      <th>67</th>\n",
       "      <td>Address Type_Unknown address type</td>\n",
       "    </tr>\n",
       "    <tr>\n",
       "      <th>68</th>\n",
       "      <td>gender_male</td>\n",
       "    </tr>\n",
       "  </tbody>\n",
       "</table>\n",
       "<p>69 rows × 1 columns</p>\n",
       "</div>"
      ],
      "text/plain": [
       "                                    0\n",
       "0                    Phone Is Prepaid\n",
       "1                 Phone Is Commercial\n",
       "2                   Address Is Active\n",
       "3               Address Is Commercial\n",
       "4                    Mailing State_AK\n",
       "5                    Mailing State_AL\n",
       "6                    Mailing State_AR\n",
       "7                    Mailing State_AZ\n",
       "8                    Mailing State_CA\n",
       "9                    Mailing State_CO\n",
       "10                   Mailing State_CT\n",
       "11                   Mailing State_DC\n",
       "12                   Mailing State_DE\n",
       "13                   Mailing State_FL\n",
       "14                   Mailing State_GA\n",
       "15                   Mailing State_HI\n",
       "16                   Mailing State_IA\n",
       "17                   Mailing State_ID\n",
       "18                   Mailing State_IL\n",
       "19                   Mailing State_IN\n",
       "20                   Mailing State_KS\n",
       "21                   Mailing State_KY\n",
       "22                   Mailing State_LA\n",
       "23                   Mailing State_MA\n",
       "24                   Mailing State_MD\n",
       "25                   Mailing State_ME\n",
       "26                   Mailing State_MI\n",
       "27                   Mailing State_MN\n",
       "28                   Mailing State_MO\n",
       "29                   Mailing State_MS\n",
       "..                                ...\n",
       "39                   Mailing State_OH\n",
       "40                   Mailing State_OK\n",
       "41                   Mailing State_OR\n",
       "42                   Mailing State_PA\n",
       "43                   Mailing State_RI\n",
       "44                   Mailing State_SC\n",
       "45                   Mailing State_SD\n",
       "46                   Mailing State_TN\n",
       "47                   Mailing State_TX\n",
       "48                   Mailing State_UT\n",
       "49                   Mailing State_VT\n",
       "50                   Mailing State_WA\n",
       "51                   Mailing State_WI\n",
       "52                   Mailing State_WV\n",
       "53                   Mailing State_WY\n",
       "54                Phone to Name_Match\n",
       "55             Phone to Name_No match\n",
       "56         Phone Line Type_Fixed VOIP\n",
       "57           Phone Line Type_Landline\n",
       "58             Phone Line Type_Mobile\n",
       "59     Phone Line Type_Non-fixed VOIP\n",
       "60              Address to Name_Match\n",
       "61           Address to Name_No match\n",
       "62  Address Type_Commercial mail drop\n",
       "63            Address Type_Multi unit\n",
       "64                Address Type_PO box\n",
       "65      Address Type_PO box throwback\n",
       "66           Address Type_Single unit\n",
       "67  Address Type_Unknown address type\n",
       "68                        gender_male\n",
       "\n",
       "[69 rows x 1 columns]"
      ]
     },
     "execution_count": 12,
     "metadata": {},
     "output_type": "execute_result"
    }
   ],
   "source": [
    "pd.DataFrame(diff_new.index)"
   ]
  },
  {
   "cell_type": "markdown",
   "metadata": {},
   "source": [
    "### Modelling "
   ]
  },
  {
   "cell_type": "markdown",
   "metadata": {},
   "source": [
    "Lets first start with spliting the data into Train and test sets.[ Please note that all the hyperparameters are already tuned using dev set. I removed all the hyperparameter tuning parts of the code from this notebook just to keep the notebook clean and organised]"
   ]
  },
  {
   "cell_type": "markdown",
   "metadata": {},
   "source": [
    "Here X_train and y_train contains the training dataset and its coresponding labels respectively. Similarly X_test and y_test are the testing dataset and labels. Here we are taking a representative sample. In other words we are randomly sampling the data for all the classes. Since the classes are imbalanced in the data the sample taken shall also have imbalanced classes"
   ]
  },
  {
   "cell_type": "code",
   "execution_count": 13,
   "metadata": {
    "collapsed": true
   },
   "outputs": [],
   "source": [
    "from sklearn.model_selection import train_test_split\n",
    "X_train, X_test, y_train, y_test = train_test_split(data_f[diff_new.index],labels, test_size=0.2, stratify=labels, random_state=123526)\n"
   ]
  },
  {
   "cell_type": "markdown",
   "metadata": {},
   "source": [
    "### Random Forest Model"
   ]
  },
  {
   "cell_type": "markdown",
   "metadata": {},
   "source": [
    "Lets first start with the Random Forest Classifier (already tuned for highest avg F1 score with high F1 score for class label 1 )"
   ]
  },
  {
   "cell_type": "code",
   "execution_count": 14,
   "metadata": {},
   "outputs": [
    {
     "name": "stdout",
     "output_type": "stream",
     "text": [
      "Training Score: 0.8043197936814958\n",
      "Testing Score: 0.6524822695035462\n",
      "\n",
      "Confusion Matrix\n",
      "     0    1\n",
      "0  891  223\n",
      "1  316  121\n",
      "\n",
      "Classification  Report\n",
      "             precision    recall  f1-score   support\n",
      "\n",
      "          0       0.80      0.74      0.77      1207\n",
      "          1       0.28      0.35      0.31       344\n",
      "\n",
      "avg / total       0.68      0.65      0.67      1551\n",
      "\n"
     ]
    }
   ],
   "source": [
    "from sklearn.ensemble import RandomForestClassifier\n",
    "rf = RandomForestClassifier(n_estimators=500, oob_score=True, random_state=0,class_weight=\"balanced\")\n",
    "rf.fit(X_train, y_train)\n",
    "from sklearn.metrics import accuracy_score\n",
    "pred_rf = rf.predict(X_test)\n",
    "\n",
    "\n",
    "print(\"Training Score:\",rf.score(X_train, y_train))\n",
    "print(\"Testing Score:\", rf.score(X_test, y_test))\n",
    "print()\n",
    "print(\"Confusion Matrix\")\n",
    "print(pd.DataFrame(confusion_matrix(pred_rf,y_test)))\n",
    "print()\n",
    "print(\"Classification  Report\")\n",
    "print(classification_report(y_test, pred_rf))\n"
   ]
  },
  {
   "cell_type": "markdown",
   "metadata": {},
   "source": [
    "Since there are imbalanced classes we have to focus on F1-scores. We see that  F1-score for testing is 0.67  with training accuracy is 80% and testing accuracy for 66%.We can also see the confustion matrix and see that there are quite a few records are being miss labeled. Even though there is some evidence of overfitting we shall keep the model as is since it have good F1 score. We can handle the over fitting later."
   ]
  },
  {
   "cell_type": "markdown",
   "metadata": {},
   "source": [
    "Below we can see the importance of each column in numeric order. Higher the better"
   ]
  },
  {
   "cell_type": "code",
   "execution_count": 15,
   "metadata": {},
   "outputs": [
    {
     "data": {
      "text/html": [
       "<div>\n",
       "<style scoped>\n",
       "    .dataframe tbody tr th:only-of-type {\n",
       "        vertical-align: middle;\n",
       "    }\n",
       "\n",
       "    .dataframe tbody tr th {\n",
       "        vertical-align: top;\n",
       "    }\n",
       "\n",
       "    .dataframe thead th {\n",
       "        text-align: right;\n",
       "    }\n",
       "</style>\n",
       "<table border=\"1\" class=\"dataframe\">\n",
       "  <thead>\n",
       "    <tr style=\"text-align: right;\">\n",
       "      <th></th>\n",
       "      <th>0</th>\n",
       "      <th>1</th>\n",
       "    </tr>\n",
       "  </thead>\n",
       "  <tbody>\n",
       "    <tr>\n",
       "      <th>0</th>\n",
       "      <td>Phone Is Prepaid</td>\n",
       "      <td>0.000293697</td>\n",
       "    </tr>\n",
       "    <tr>\n",
       "      <th>1</th>\n",
       "      <td>Phone Is Commercial</td>\n",
       "      <td>0.0401796</td>\n",
       "    </tr>\n",
       "    <tr>\n",
       "      <th>2</th>\n",
       "      <td>Address Is Active</td>\n",
       "      <td>0.0115043</td>\n",
       "    </tr>\n",
       "    <tr>\n",
       "      <th>3</th>\n",
       "      <td>Address Is Commercial</td>\n",
       "      <td>0.0465213</td>\n",
       "    </tr>\n",
       "    <tr>\n",
       "      <th>4</th>\n",
       "      <td>Mailing State_AK</td>\n",
       "      <td>0.00264522</td>\n",
       "    </tr>\n",
       "    <tr>\n",
       "      <th>5</th>\n",
       "      <td>Mailing State_AL</td>\n",
       "      <td>0.0113142</td>\n",
       "    </tr>\n",
       "    <tr>\n",
       "      <th>6</th>\n",
       "      <td>Mailing State_AR</td>\n",
       "      <td>0.0095294</td>\n",
       "    </tr>\n",
       "    <tr>\n",
       "      <th>7</th>\n",
       "      <td>Mailing State_AZ</td>\n",
       "      <td>0.00951111</td>\n",
       "    </tr>\n",
       "    <tr>\n",
       "      <th>8</th>\n",
       "      <td>Mailing State_CA</td>\n",
       "      <td>0.0253327</td>\n",
       "    </tr>\n",
       "    <tr>\n",
       "      <th>9</th>\n",
       "      <td>Mailing State_CO</td>\n",
       "      <td>0.0107674</td>\n",
       "    </tr>\n",
       "    <tr>\n",
       "      <th>10</th>\n",
       "      <td>Mailing State_CT</td>\n",
       "      <td>0.0102676</td>\n",
       "    </tr>\n",
       "    <tr>\n",
       "      <th>11</th>\n",
       "      <td>Mailing State_DC</td>\n",
       "      <td>0.00453058</td>\n",
       "    </tr>\n",
       "    <tr>\n",
       "      <th>12</th>\n",
       "      <td>Mailing State_DE</td>\n",
       "      <td>0.00631929</td>\n",
       "    </tr>\n",
       "    <tr>\n",
       "      <th>13</th>\n",
       "      <td>Mailing State_FL</td>\n",
       "      <td>0.0202335</td>\n",
       "    </tr>\n",
       "    <tr>\n",
       "      <th>14</th>\n",
       "      <td>Mailing State_GA</td>\n",
       "      <td>0.0154284</td>\n",
       "    </tr>\n",
       "    <tr>\n",
       "      <th>15</th>\n",
       "      <td>Mailing State_HI</td>\n",
       "      <td>0.00526111</td>\n",
       "    </tr>\n",
       "    <tr>\n",
       "      <th>16</th>\n",
       "      <td>Mailing State_IA</td>\n",
       "      <td>0.00958074</td>\n",
       "    </tr>\n",
       "    <tr>\n",
       "      <th>17</th>\n",
       "      <td>Mailing State_ID</td>\n",
       "      <td>0.00408041</td>\n",
       "    </tr>\n",
       "    <tr>\n",
       "      <th>18</th>\n",
       "      <td>Mailing State_IL</td>\n",
       "      <td>0.0185365</td>\n",
       "    </tr>\n",
       "    <tr>\n",
       "      <th>19</th>\n",
       "      <td>Mailing State_IN</td>\n",
       "      <td>0.0164271</td>\n",
       "    </tr>\n",
       "    <tr>\n",
       "      <th>20</th>\n",
       "      <td>Mailing State_KS</td>\n",
       "      <td>0.0087773</td>\n",
       "    </tr>\n",
       "    <tr>\n",
       "      <th>21</th>\n",
       "      <td>Mailing State_KY</td>\n",
       "      <td>0.0119642</td>\n",
       "    </tr>\n",
       "    <tr>\n",
       "      <th>22</th>\n",
       "      <td>Mailing State_LA</td>\n",
       "      <td>0.0134517</td>\n",
       "    </tr>\n",
       "    <tr>\n",
       "      <th>23</th>\n",
       "      <td>Mailing State_MA</td>\n",
       "      <td>0.0170135</td>\n",
       "    </tr>\n",
       "    <tr>\n",
       "      <th>24</th>\n",
       "      <td>Mailing State_MD</td>\n",
       "      <td>0.0113858</td>\n",
       "    </tr>\n",
       "    <tr>\n",
       "      <th>25</th>\n",
       "      <td>Mailing State_ME</td>\n",
       "      <td>0.00543883</td>\n",
       "    </tr>\n",
       "    <tr>\n",
       "      <th>26</th>\n",
       "      <td>Mailing State_MI</td>\n",
       "      <td>0.0178387</td>\n",
       "    </tr>\n",
       "    <tr>\n",
       "      <th>27</th>\n",
       "      <td>Mailing State_MN</td>\n",
       "      <td>0.0155944</td>\n",
       "    </tr>\n",
       "    <tr>\n",
       "      <th>28</th>\n",
       "      <td>Mailing State_MO</td>\n",
       "      <td>0.0128425</td>\n",
       "    </tr>\n",
       "    <tr>\n",
       "      <th>29</th>\n",
       "      <td>Mailing State_MS</td>\n",
       "      <td>0.00899976</td>\n",
       "    </tr>\n",
       "    <tr>\n",
       "      <th>...</th>\n",
       "      <td>...</td>\n",
       "      <td>...</td>\n",
       "    </tr>\n",
       "    <tr>\n",
       "      <th>39</th>\n",
       "      <td>Mailing State_OH</td>\n",
       "      <td>0.0195341</td>\n",
       "    </tr>\n",
       "    <tr>\n",
       "      <th>40</th>\n",
       "      <td>Mailing State_OK</td>\n",
       "      <td>0.0102153</td>\n",
       "    </tr>\n",
       "    <tr>\n",
       "      <th>41</th>\n",
       "      <td>Mailing State_OR</td>\n",
       "      <td>0.00902523</td>\n",
       "    </tr>\n",
       "    <tr>\n",
       "      <th>42</th>\n",
       "      <td>Mailing State_PA</td>\n",
       "      <td>0.0193048</td>\n",
       "    </tr>\n",
       "    <tr>\n",
       "      <th>43</th>\n",
       "      <td>Mailing State_RI</td>\n",
       "      <td>0.00503898</td>\n",
       "    </tr>\n",
       "    <tr>\n",
       "      <th>44</th>\n",
       "      <td>Mailing State_SC</td>\n",
       "      <td>0.00987458</td>\n",
       "    </tr>\n",
       "    <tr>\n",
       "      <th>45</th>\n",
       "      <td>Mailing State_SD</td>\n",
       "      <td>0.0031189</td>\n",
       "    </tr>\n",
       "    <tr>\n",
       "      <th>46</th>\n",
       "      <td>Mailing State_TN</td>\n",
       "      <td>0.0140911</td>\n",
       "    </tr>\n",
       "    <tr>\n",
       "      <th>47</th>\n",
       "      <td>Mailing State_TX</td>\n",
       "      <td>0.0220997</td>\n",
       "    </tr>\n",
       "    <tr>\n",
       "      <th>48</th>\n",
       "      <td>Mailing State_UT</td>\n",
       "      <td>0.00689653</td>\n",
       "    </tr>\n",
       "    <tr>\n",
       "      <th>49</th>\n",
       "      <td>Mailing State_VT</td>\n",
       "      <td>0.00561837</td>\n",
       "    </tr>\n",
       "    <tr>\n",
       "      <th>50</th>\n",
       "      <td>Mailing State_WA</td>\n",
       "      <td>0.0155319</td>\n",
       "    </tr>\n",
       "    <tr>\n",
       "      <th>51</th>\n",
       "      <td>Mailing State_WI</td>\n",
       "      <td>0.0120724</td>\n",
       "    </tr>\n",
       "    <tr>\n",
       "      <th>52</th>\n",
       "      <td>Mailing State_WV</td>\n",
       "      <td>0.00725512</td>\n",
       "    </tr>\n",
       "    <tr>\n",
       "      <th>53</th>\n",
       "      <td>Mailing State_WY</td>\n",
       "      <td>0.00372246</td>\n",
       "    </tr>\n",
       "    <tr>\n",
       "      <th>54</th>\n",
       "      <td>Phone to Name_Match</td>\n",
       "      <td>0.0242402</td>\n",
       "    </tr>\n",
       "    <tr>\n",
       "      <th>55</th>\n",
       "      <td>Phone to Name_No match</td>\n",
       "      <td>0.0239704</td>\n",
       "    </tr>\n",
       "    <tr>\n",
       "      <th>56</th>\n",
       "      <td>Phone Line Type_Fixed VOIP</td>\n",
       "      <td>0.0275541</td>\n",
       "    </tr>\n",
       "    <tr>\n",
       "      <th>57</th>\n",
       "      <td>Phone Line Type_Landline</td>\n",
       "      <td>0.0237826</td>\n",
       "    </tr>\n",
       "    <tr>\n",
       "      <th>58</th>\n",
       "      <td>Phone Line Type_Mobile</td>\n",
       "      <td>0.000339715</td>\n",
       "    </tr>\n",
       "    <tr>\n",
       "      <th>59</th>\n",
       "      <td>Phone Line Type_Non-fixed VOIP</td>\n",
       "      <td>0.0202639</td>\n",
       "    </tr>\n",
       "    <tr>\n",
       "      <th>60</th>\n",
       "      <td>Address to Name_Match</td>\n",
       "      <td>0.0202356</td>\n",
       "    </tr>\n",
       "    <tr>\n",
       "      <th>61</th>\n",
       "      <td>Address to Name_No match</td>\n",
       "      <td>0.0193597</td>\n",
       "    </tr>\n",
       "    <tr>\n",
       "      <th>62</th>\n",
       "      <td>Address Type_Commercial mail drop</td>\n",
       "      <td>0.00362501</td>\n",
       "    </tr>\n",
       "    <tr>\n",
       "      <th>63</th>\n",
       "      <td>Address Type_Multi unit</td>\n",
       "      <td>0.0262265</td>\n",
       "    </tr>\n",
       "    <tr>\n",
       "      <th>64</th>\n",
       "      <td>Address Type_PO box</td>\n",
       "      <td>0.0126935</td>\n",
       "    </tr>\n",
       "    <tr>\n",
       "      <th>65</th>\n",
       "      <td>Address Type_PO box throwback</td>\n",
       "      <td>0.00617636</td>\n",
       "    </tr>\n",
       "    <tr>\n",
       "      <th>66</th>\n",
       "      <td>Address Type_Single unit</td>\n",
       "      <td>0.0274105</td>\n",
       "    </tr>\n",
       "    <tr>\n",
       "      <th>67</th>\n",
       "      <td>Address Type_Unknown address type</td>\n",
       "      <td>0.00252484</td>\n",
       "    </tr>\n",
       "    <tr>\n",
       "      <th>68</th>\n",
       "      <td>gender_male</td>\n",
       "      <td>0.107935</td>\n",
       "    </tr>\n",
       "  </tbody>\n",
       "</table>\n",
       "<p>69 rows × 2 columns</p>\n",
       "</div>"
      ],
      "text/plain": [
       "                                    0            1\n",
       "0                    Phone Is Prepaid  0.000293697\n",
       "1                 Phone Is Commercial    0.0401796\n",
       "2                   Address Is Active    0.0115043\n",
       "3               Address Is Commercial    0.0465213\n",
       "4                    Mailing State_AK   0.00264522\n",
       "5                    Mailing State_AL    0.0113142\n",
       "6                    Mailing State_AR    0.0095294\n",
       "7                    Mailing State_AZ   0.00951111\n",
       "8                    Mailing State_CA    0.0253327\n",
       "9                    Mailing State_CO    0.0107674\n",
       "10                   Mailing State_CT    0.0102676\n",
       "11                   Mailing State_DC   0.00453058\n",
       "12                   Mailing State_DE   0.00631929\n",
       "13                   Mailing State_FL    0.0202335\n",
       "14                   Mailing State_GA    0.0154284\n",
       "15                   Mailing State_HI   0.00526111\n",
       "16                   Mailing State_IA   0.00958074\n",
       "17                   Mailing State_ID   0.00408041\n",
       "18                   Mailing State_IL    0.0185365\n",
       "19                   Mailing State_IN    0.0164271\n",
       "20                   Mailing State_KS    0.0087773\n",
       "21                   Mailing State_KY    0.0119642\n",
       "22                   Mailing State_LA    0.0134517\n",
       "23                   Mailing State_MA    0.0170135\n",
       "24                   Mailing State_MD    0.0113858\n",
       "25                   Mailing State_ME   0.00543883\n",
       "26                   Mailing State_MI    0.0178387\n",
       "27                   Mailing State_MN    0.0155944\n",
       "28                   Mailing State_MO    0.0128425\n",
       "29                   Mailing State_MS   0.00899976\n",
       "..                                ...          ...\n",
       "39                   Mailing State_OH    0.0195341\n",
       "40                   Mailing State_OK    0.0102153\n",
       "41                   Mailing State_OR   0.00902523\n",
       "42                   Mailing State_PA    0.0193048\n",
       "43                   Mailing State_RI   0.00503898\n",
       "44                   Mailing State_SC   0.00987458\n",
       "45                   Mailing State_SD    0.0031189\n",
       "46                   Mailing State_TN    0.0140911\n",
       "47                   Mailing State_TX    0.0220997\n",
       "48                   Mailing State_UT   0.00689653\n",
       "49                   Mailing State_VT   0.00561837\n",
       "50                   Mailing State_WA    0.0155319\n",
       "51                   Mailing State_WI    0.0120724\n",
       "52                   Mailing State_WV   0.00725512\n",
       "53                   Mailing State_WY   0.00372246\n",
       "54                Phone to Name_Match    0.0242402\n",
       "55             Phone to Name_No match    0.0239704\n",
       "56         Phone Line Type_Fixed VOIP    0.0275541\n",
       "57           Phone Line Type_Landline    0.0237826\n",
       "58             Phone Line Type_Mobile  0.000339715\n",
       "59     Phone Line Type_Non-fixed VOIP    0.0202639\n",
       "60              Address to Name_Match    0.0202356\n",
       "61           Address to Name_No match    0.0193597\n",
       "62  Address Type_Commercial mail drop   0.00362501\n",
       "63            Address Type_Multi unit    0.0262265\n",
       "64                Address Type_PO box    0.0126935\n",
       "65      Address Type_PO box throwback   0.00617636\n",
       "66           Address Type_Single unit    0.0274105\n",
       "67  Address Type_Unknown address type   0.00252484\n",
       "68                        gender_male     0.107935\n",
       "\n",
       "[69 rows x 2 columns]"
      ]
     },
     "execution_count": 15,
     "metadata": {},
     "output_type": "execute_result"
    }
   ],
   "source": [
    "pd.DataFrame([diff_new.index,rf.feature_importances_]).T"
   ]
  },
  {
   "cell_type": "markdown",
   "metadata": {},
   "source": [
    "### Logistic Regression Model (With optimized ROC curve)"
   ]
  },
  {
   "cell_type": "markdown",
   "metadata": {},
   "source": [
    "We create a logistic regression model with fine tuned hyperparameters. We also vary the threshold level to vary the ROC curve(commented code). With the fine tuned parameters we have the best score of 0.7 F1 Score"
   ]
  },
  {
   "cell_type": "code",
   "execution_count": 16,
   "metadata": {},
   "outputs": [
    {
     "name": "stdout",
     "output_type": "stream",
     "text": [
      "Training Score: 0.6178272082527402\n",
      "Testing Score: 0.6099290780141844\n",
      "\n",
      "Confusion Matrix\n",
      "     0    1\n",
      "0  974  236\n",
      "1  233  108\n",
      "\n",
      "Classification  Report\n",
      "             precision    recall  f1-score   support\n",
      "\n",
      "          0       0.80      0.81      0.81      1207\n",
      "          1       0.32      0.31      0.32       344\n",
      "\n",
      "avg / total       0.70      0.70      0.70      1551\n",
      "\n"
     ]
    }
   ],
   "source": [
    "def set_threshold(pred,threshold):\n",
    "    return pd.DataFrame(pred).iloc[:,1].apply(lambda x: 1 if x>threshold else 0)\n",
    "\n",
    "import sklearn.linear_model as lm\n",
    "lgr= lm.LogisticRegression(C=0.000006,max_iter=1000,penalty='l2',class_weight='balanced' )\n",
    "lgr.fit(X_train,y_train)\n",
    "from sklearn.metrics import accuracy_score\n",
    "#for i in np.arange(0.48,0.505,0.0001):\n",
    "#   print(i)\n",
    "#    pred_lgr=[]\n",
    "#    pred_lgr = set_threshold(lgr.predict_proba(X_test),i)\n",
    "#   print(classification_report(y_test, pred_lgr))\n",
    "\n",
    "pred_lgr = set_threshold(lgr.predict_proba(X_test),0.5005)\n",
    "print(\"Training Score:\",lgr.score(X_train,y_train))\n",
    "print(\"Testing Score:\",lgr.score(X_test,y_test))\n",
    "print()\n",
    "print(\"Confusion Matrix\")\n",
    "print(pd.DataFrame(confusion_matrix(pred_lgr,y_test)))\n",
    "print()\n",
    "print(\"Classification  Report\")\n",
    "print(classification_report(y_test, pred_lgr))"
   ]
  },
  {
   "cell_type": "markdown",
   "metadata": {},
   "source": [
    "We see 3% improvement in this model compared to the Random forest model. But if you look at the Confusion matrix you will see that this model is assigning more records to 0 labels "
   ]
  },
  {
   "cell_type": "markdown",
   "metadata": {},
   "source": [
    "### Linear SVM model"
   ]
  },
  {
   "cell_type": "markdown",
   "metadata": {},
   "source": [
    "We create one more model which uses a SVM model with Logisitic regression kernel but L1 penality"
   ]
  },
  {
   "cell_type": "code",
   "execution_count": 17,
   "metadata": {},
   "outputs": [
    {
     "name": "stdout",
     "output_type": "stream",
     "text": [
      "Training Score: 0.6176660219213411\n",
      "Testing Score: 0.6131528046421664\n",
      "\n",
      "Confusion Matrix\n",
      "     0    1\n",
      "0  754  147\n",
      "1  453  197\n",
      "\n",
      "Classification  Report\n",
      "             precision    recall  f1-score   support\n",
      "\n",
      "          0       0.84      0.62      0.72      1207\n",
      "          1       0.30      0.57      0.40       344\n",
      "\n",
      "avg / total       0.72      0.61      0.64      1551\n",
      "\n"
     ]
    }
   ],
   "source": [
    "from sklearn.svm import LinearSVC\n",
    "from sklearn.feature_selection import SelectFromModel\n",
    "lsvc = LinearSVC(C=0.003,penalty=\"l1\", dual=False,class_weight='balanced').fit(X_train, y_train)\n",
    "pred_lsvc = lsvc.predict(X_test)\n",
    "print( \"Training Score:\",lsvc.score(X_train,y_train))\n",
    "print( \"Testing Score:\",accuracy_score(y_test,pred_lsvc))\n",
    "print()\n",
    "print(\"Confusion Matrix\")\n",
    "print(pd.DataFrame(confusion_matrix(pred_lsvc,y_test)))\n",
    "print()\n",
    "print(\"Classification  Report\")\n",
    "print(classification_report(y_test, pred_lsvc))"
   ]
  },
  {
   "cell_type": "markdown",
   "metadata": {},
   "source": [
    "### Model Ensemble (Model voting)"
   ]
  },
  {
   "cell_type": "markdown",
   "metadata": {},
   "source": [
    "Now that we have three different models we can take a vote from all three models to see if the record should be labels 1 or 0. We use a list (Prediction) to store the voting results and then print the accuracy, confusion matrix and the classification report. This approach can be thought of another ensemble method but here we use various models (instead of trees) to remove the bais and variance from models create the most generalized model even though the accuracy/F1 score is not the highest."
   ]
  },
  {
   "cell_type": "code",
   "execution_count": 18,
   "metadata": {},
   "outputs": [
    {
     "name": "stdout",
     "output_type": "stream",
     "text": [
      "Testing Score: 0.6718246292714378\n",
      "\n",
      "     0    1\n",
      "0  900  307\n",
      "1  202  142\n",
      "\n",
      "Classification  Report\n",
      "             precision    recall  f1-score   support\n",
      "\n",
      "          0       0.82      0.75      0.78      1207\n",
      "          1       0.32      0.41      0.36       344\n",
      "\n",
      "avg / total       0.71      0.67      0.69      1551\n",
      "\n"
     ]
    }
   ],
   "source": [
    "prediction = []\n",
    "for i,y_hat in enumerate(y_test):\n",
    "    if (pred_rf[i]+pred_lgr[i]+pred_lsvc[i])>1:\n",
    "        prediction.append(1)\n",
    "    else:\n",
    "        prediction.append(0)\n",
    "\n",
    "print( \"Testing Score:\",accuracy_score(y_test,prediction))\n",
    "print()\n",
    "print(pd.DataFrame(confusion_matrix(y_test,prediction)))\n",
    "print()\n",
    "print(\"Classification  Report\")\n",
    "print(classification_report(y_test, prediction))\n",
    "    "
   ]
  },
  {
   "cell_type": "markdown",
   "metadata": {},
   "source": [
    "### Create balanced classes by oversampling minority class and under sampling majority class"
   ]
  },
  {
   "cell_type": "markdown",
   "metadata": {},
   "source": [
    "Here we shall create balanced samples for each of the classes by oversampling minority class and under sampling majority class"
   ]
  },
  {
   "cell_type": "code",
   "execution_count": 19,
   "metadata": {
    "collapsed": true
   },
   "outputs": [],
   "source": [
    "data_fe = pd.concat([data_f[labels == 1].sample(3000, replace = True),data_f[labels == 0].sample(3000)],axis=0)\n",
    "data_fe\n",
    "labels = labels[data_fe.index]"
   ]
  },
  {
   "cell_type": "markdown",
   "metadata": {},
   "source": [
    "Lets create the Test and Train split"
   ]
  },
  {
   "cell_type": "code",
   "execution_count": 20,
   "metadata": {
    "collapsed": true
   },
   "outputs": [],
   "source": [
    "from sklearn.model_selection import train_test_split\n",
    "X_train2, X_test2, y_train2, y_test2 = train_test_split(data_fe[diff_new.index],labels, test_size=0.2, stratify=labels, random_state=123526)\n"
   ]
  },
  {
   "cell_type": "markdown",
   "metadata": {},
   "source": [
    "#### Gradient Boosting Classifier"
   ]
  },
  {
   "cell_type": "markdown",
   "metadata": {},
   "source": [
    "Lets create a Gradient boosted ensemble classifier using the balanced dataset"
   ]
  },
  {
   "cell_type": "code",
   "execution_count": 21,
   "metadata": {},
   "outputs": [
    {
     "name": "stdout",
     "output_type": "stream",
     "text": [
      " Confusion matrix for the current sample\n",
      "     0    1\n",
      "0  378  166\n",
      "1  222  434\n",
      "\n",
      " Confusion matrix for the pervious representative sample\n",
      "     0    1\n",
      "0  816   87\n",
      "1  391  257\n",
      "\n",
      " Classification report for the current sample\n",
      "             precision    recall  f1-score   support\n",
      "\n",
      "          0       0.69      0.63      0.66       600\n",
      "          1       0.66      0.72      0.69       600\n",
      "\n",
      "avg / total       0.68      0.68      0.68      1200\n",
      "\n",
      "\n",
      " Classification report for the pervious representative sample\n",
      "             precision    recall  f1-score   support\n",
      "\n",
      "          0       0.90      0.68      0.77      1207\n",
      "          1       0.40      0.75      0.52       344\n",
      "\n",
      "avg / total       0.79      0.69      0.72      1551\n",
      "\n"
     ]
    }
   ],
   "source": [
    "from sklearn.ensemble import GradientBoostingClassifier\n",
    "gb = GradientBoostingClassifier(loss= 'exponential',n_estimators=800,max_depth=15,subsample= 0.8)\n",
    "gb.fit(X_train2,y_train2)\n",
    "\n",
    "pred_gb2 = gb.predict(X_test2)\n",
    "pred_gb = gb.predict(X_test)\n",
    "print(\" Confusion matrix for the current sample\")\n",
    "print(pd.DataFrame(confusion_matrix(pred_gb2,y_test2)))\n",
    "print()\n",
    "print(\" Confusion matrix for the pervious representative sample\")\n",
    "print(pd.DataFrame(confusion_matrix(pred_gb,y_test)))\n",
    "print()\n",
    "print(\" Classification report for the current sample\")\n",
    "print(classification_report(y_test2, pred_gb2))\n",
    "print()\n",
    "print(\" Classification report for the pervious representative sample\")\n",
    "print(classification_report(y_test, pred_gb))"
   ]
  },
  {
   "cell_type": "markdown",
   "metadata": {},
   "source": [
    "Here we can see gradient boosting algorithm performing really well with Higest F1-score of o.72 for the representative sample.It also performed well in both in the balance sample test data as well as the representative sample test data"
   ]
  },
  {
   "cell_type": "markdown",
   "metadata": {},
   "source": [
    "### K nearest neighbour model"
   ]
  },
  {
   "cell_type": "markdown",
   "metadata": {},
   "source": [
    "Lets also check the k nearest nieghbor model with the latest sample"
   ]
  },
  {
   "cell_type": "code",
   "execution_count": 22,
   "metadata": {},
   "outputs": [
    {
     "name": "stdout",
     "output_type": "stream",
     "text": [
      " Confusion matrix for the current sample\n",
      "     0    1\n",
      "0  381  190\n",
      "1  219  410\n",
      "\n",
      " Confusion matrix for the pervious representative sample\n",
      "     0    1\n",
      "0  846  105\n",
      "1  361  239\n",
      "\n",
      " Classification report for the current sample\n",
      "             precision    recall  f1-score   support\n",
      "\n",
      "          0       0.67      0.64      0.65       600\n",
      "          1       0.65      0.68      0.67       600\n",
      "\n",
      "avg / total       0.66      0.66      0.66      1200\n",
      "\n",
      "\n",
      " Classification report for the pervious representative sample\n",
      "             precision    recall  f1-score   support\n",
      "\n",
      "          0       0.89      0.70      0.78      1207\n",
      "          1       0.40      0.69      0.51       344\n",
      "\n",
      "avg / total       0.78      0.70      0.72      1551\n",
      "\n"
     ]
    }
   ],
   "source": [
    "from sklearn.neighbors import KNeighborsClassifier\n",
    "mb = KNeighborsClassifier(n_neighbors=10, weights='distance', algorithm='brute',p=1)\n",
    "mb.fit(X_train2,y_train2)\n",
    "pred_mb2 = mb.predict(X_test2)\n",
    "pred_mb = mb.predict(X_test)\n",
    "print(\" Confusion matrix for the current sample\")\n",
    "print(pd.DataFrame(confusion_matrix(pred_mb2,y_test2)))\n",
    "print()\n",
    "print(\" Confusion matrix for the pervious representative sample\")\n",
    "print(pd.DataFrame(confusion_matrix(pred_mb,y_test)))\n",
    "print()\n",
    "print(\" Classification report for the current sample\")\n",
    "print(classification_report(y_test2, pred_mb2))\n",
    "print()\n",
    "print(\" Classification report for the pervious representative sample\")\n",
    "print(classification_report(y_test, pred_mb))"
   ]
  },
  {
   "cell_type": "markdown",
   "metadata": {},
   "source": [
    "K Nearest Neighbor does suprisingly well on this task, especially with the minority class F1 score for the representative sample. It is amazing to see such a simple model could outperform some of the more complex models"
   ]
  },
  {
   "cell_type": "markdown",
   "metadata": {},
   "source": [
    "###  Model ensemble (Model voting) again"
   ]
  },
  {
   "cell_type": "markdown",
   "metadata": {},
   "source": [
    "Lets take a vote again considering the latest two models are well"
   ]
  },
  {
   "cell_type": "code",
   "execution_count": 37,
   "metadata": {},
   "outputs": [
    {
     "name": "stdout",
     "output_type": "stream",
     "text": [
      "Testing Score: 0.7105093488072212\n",
      "\n",
      "     0    1\n",
      "0  910  297\n",
      "1  152  192\n",
      "\n",
      "Classification  Report\n",
      "             precision    recall  f1-score   support\n",
      "\n",
      "          0       0.86      0.75      0.80      1207\n",
      "          1       0.39      0.56      0.46       344\n",
      "\n",
      "avg / total       0.75      0.71      0.73      1551\n",
      "\n"
     ]
    }
   ],
   "source": [
    "prediction = []\n",
    "for i,y_hat in enumerate(y_test):\n",
    "    if (pred_rf[i]+pred_lgr[i]+pred_lsvc[i]+pred_gb[i]+pred_mb[i])>2:\n",
    "        prediction.append(1)\n",
    "    else:\n",
    "        prediction.append(0)\n",
    "\n",
    "print( \"Testing Score:\",accuracy_score(y_test,prediction))\n",
    "print()\n",
    "print(pd.DataFrame(confusion_matrix(y_test,prediction)))\n",
    "print()\n",
    "print(\"Classification  Report\")\n",
    "print(classification_report(y_test, prediction))"
   ]
  },
  {
   "cell_type": "markdown",
   "metadata": {},
   "source": [
    "Here we see the voting mechanism doing much better than our first voting mechanism"
   ]
  },
  {
   "cell_type": "markdown",
   "metadata": {},
   "source": [
    "## We can see that we have accuracy of 75% and an F1 score of 0.74"
   ]
  },
  {
   "cell_type": "markdown",
   "metadata": {},
   "source": [
    "### Appendix(Not part of the report)"
   ]
  },
  {
   "cell_type": "code",
   "execution_count": 24,
   "metadata": {
    "collapsed": true
   },
   "outputs": [],
   "source": [
    "#model = SelectFromModel(lsvc, prefit=True)\n",
    "#X_new = model.transform(X_train2)\n",
    "#pd.DataFrame(X_new)\n",
    "#lsvc = LinearSVC(C=.05, penalty=\"l1\", dual=False).fit(X_new, y_train)\n",
    "#gb3 = GradientBoostingClassifier(loss= 'exponential',learning_rate=0.2, n_estimators=2000,max_depth=3, verbose = 1)\n",
    "#gb3.fit(X_new,y_train2)\n",
    "#pred_gb3 = gb3.predict(model.transform(X_test2))\n",
    "\n",
    "#print(gb3.score(X_new,y_train2))\n",
    "#print( accuracy_score(y_test2,pred_gb3))\n",
    "#print(pd.DataFrame(confusion_matrix(pred_gb3,y_test2)))\n",
    "#print(classification_report(y_test2, pred_gb3))\n"
   ]
  },
  {
   "cell_type": "code",
   "execution_count": 25,
   "metadata": {
    "collapsed": true
   },
   "outputs": [],
   "source": [
    "#sdasd\n",
    "\n",
    "#model = SelectFromModel(lsvc, prefit=True)\n",
    "#X_new = model.transform(X_train)\n",
    "#pd.DataFrame(X_new)\n",
    "#lsvc = LinearSVC(C=.05, penalty=\"l1\", dual=False).fit(X_new, y_train)\n",
    "#gb = GradientBoostingClassifier(loss= 'deviance',learning_rate=0.2, n_estimators=2000,max_depth=3, verbose = 1)\n",
    "#gb.fit(X_new,y_train)\n",
    "#pred_gb = gb.predict(model.transform(X_test))\n",
    "\n",
    "#print(gb.score(X_new,y_train))\n",
    "#print( accuracy_score(y_test,pred_gb))\n",
    "#print(pd.DataFrame(confusion_matrix(pred_gb,y_test)))\n",
    "#print(classification_report(y_test, pred_gb))"
   ]
  },
  {
   "cell_type": "code",
   "execution_count": 26,
   "metadata": {
    "collapsed": true
   },
   "outputs": [],
   "source": [
    "#from sklearn.ensemble import GradientBoostingClassifier \n",
    "\n",
    "#gb = GradientBoostingClassifier(loss= 'deviance',n_estimators=500,max_depth=5, verbose = 1)\n",
    "#gb.fit(X_train,y_train)\n",
    "#pred_mbl = gb.predict(X_test)\n",
    "#print(gb.score(X_train,y_train))\n",
    "#print( accuracy_score(y_test,pred_mbl))\n",
    "#print(pd.DataFrame(confusion_matrix(pred_mbl,y_test)))\n",
    "#print(classification_report(y_test, pred_mbl))"
   ]
  },
  {
   "cell_type": "code",
   "execution_count": 27,
   "metadata": {
    "collapsed": true
   },
   "outputs": [],
   "source": [
    "#g = sns.FacetGrid(data_no_na, col=\"Address Type\", hue='Call Disposition')\n",
    "#g = (g.map(plt.hist, \"Call Disposition\"))"
   ]
  },
  {
   "cell_type": "code",
   "execution_count": 28,
   "metadata": {
    "collapsed": true
   },
   "outputs": [],
   "source": [
    "#sns.factorplot(data_no_na.iloc[:,8:], hue=\"Call Disposition\")"
   ]
  }
 ],
 "metadata": {
  "kernelspec": {
   "display_name": "Python [conda env:tensorflow]",
   "language": "python",
   "name": "conda-env-tensorflow-py"
  },
  "language_info": {
   "codemirror_mode": {
    "name": "ipython",
    "version": 3
   },
   "file_extension": ".py",
   "mimetype": "text/x-python",
   "name": "python",
   "nbconvert_exporter": "python",
   "pygments_lexer": "ipython3",
   "version": "3.5.5"
  }
 },
 "nbformat": 4,
 "nbformat_minor": 2
}
